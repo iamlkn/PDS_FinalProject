{
 "cells": [
  {
   "cell_type": "markdown",
   "id": "85d5abf8-5189-4167-8596-d66bdb397fff",
   "metadata": {},
   "source": [
    "# Data Collection"
   ]
  },
  {
   "cell_type": "markdown",
   "id": "36cb3ad7-31f1-45fe-87ce-994332a1643d",
   "metadata": {},
   "source": [
    "For this project, we aim to build a **predictive model** that could **classify forest cover type** based on **cartographic variables**. Understanding the relationships among these variables could be valuable for **land management** and **ecological studies**."
   ]
  },
  {
   "cell_type": "markdown",
   "id": "84df706d-c926-4f1c-a9a8-d946c6537518",
   "metadata": {},
   "source": [
    "## 1. Data Source and Subject"
   ]
  },
  {
   "cell_type": "markdown",
   "id": "799ee9f1-9b8b-4511-8a3d-bdfa5217c743",
   "metadata": {},
   "source": [
    "- **Subject**: The dataset contains information about different forest cover types, which is Spruce/Fir, Lodgepole Pine, Aspen, and so on, in four wilderness areas located in Roosevelt National Forest of Nothern Colorado. Each observation represents a $30*30$ meters cell and includes various cartographic variables such as elevation, slope, aspect, distance to hydrology, and soil type.\n",
    "- **Source**: We are using the \"Covertype\" dataset available from UCI Machine Learning Repository: https://www.kaggle.com/datasets/uciml/forest-cover-type-dataset/."
   ]
  },
  {
   "cell_type": "markdown",
   "id": "88d2c48b-4cfd-4688-a797-5d67806ed236",
   "metadata": {},
   "source": [
    "## 2. Data License"
   ]
  },
  {
   "cell_type": "markdown",
   "id": "c0e5d287-a051-464c-898f-2436c7928a0f",
   "metadata": {},
   "source": [
    "The dataset is made available under the Public Domain. There are no restrictions on its use, modification, or distribution."
   ]
  },
  {
   "cell_type": "markdown",
   "id": "adb21eae-3eae-40ee-87d9-7f11eb36009a",
   "metadata": {},
   "source": [
    "## 3. Data Collection Method"
   ]
  },
  {
   "cell_type": "markdown",
   "id": "269ea2ca-fc38-4fe2-bc98-9e4938a3e9f5",
   "metadata": {},
   "source": [
    "- **Method**: The data was originally collected by the US Forest Service (USFS) Region 2 Resource Information System (RIS). The observations were derived from data obtained from the US Geological Survey (USGS) and the USFS.\n",
    "  - **Catographic Variables**: Cartographic variables were determined using USGS Digital Elevation Model (DEMs) and other geographic information system (GIS) data.\n",
    "  - **Soil Type**: Soil type designations were based on USFS Ecological Landtype Units (ELUs).\n",
    "  - **Wilderness Area**: The actual forest cover type for each 30 x 30-meter cell was determined using observations and aerial photography."
   ]
  },
  {
   "cell_type": "markdown",
   "id": "2a39fdab-d95a-47b1-8cab-102c32ff2dff",
   "metadata": {},
   "source": [
    "## 4. Data Ethics and Limitations"
   ]
  },
  {
   "cell_type": "markdown",
   "id": "df16f99e-56a9-4412-9e80-e784433b57f0",
   "metadata": {},
   "source": [
    "- **Data Collection Date**: The dataset was donated on 7/31/1998. Forest cover type could change overtime due to natural disturbances and human activities. Therefore, the data may not perfectly reflect current forest conditions in Roosevelt National Forest.\n",
    "- **Spatial**: The $30*30$ meters solution may not capture fine-scale variations in forest cover type within each cell.\n",
    "- **Data Accuracy**: While the data has been widely used, it's important to note that the accuracy of the original USFS and USGS data sources can influence the reliability of the dataset.\n",
    "- **Limited Scope:** This dataset is specific to a limited region in Colorado, so our findings might not be directly transferable to other forests."
   ]
  },
  {
   "cell_type": "markdown",
   "id": "9b59de40-6ad8-4469-862d-783cb0ee8893",
   "metadata": {},
   "source": [
    "# Data Exploratory Analysis (EDA)"
   ]
  },
  {
   "cell_type": "markdown",
   "id": "a57d7965-ea61-4c4a-a20b-ab755da10695",
   "metadata": {},
   "source": [
    "## 1. Import Libraries"
   ]
  },
  {
   "cell_type": "code",
   "execution_count": null,
   "id": "1d0a2ea8-3f8e-4f51-98aa-76348fa881ac",
   "metadata": {},
   "outputs": [],
   "source": [
    "# Import libraries\n",
    "import numpy as np\n",
    "import pandas as pd\n",
    "import seaborn as sns\n",
    "import matplotlib.pyplot as plt"
   ]
  },
  {
   "cell_type": "markdown",
   "id": "d3cd8f11-cada-4cc5-b6e3-51ad47241bb3",
   "metadata": {},
   "source": [
    "## 2. Basic Description"
   ]
  },
  {
   "cell_type": "code",
   "execution_count": null,
   "id": "53a72af5-1d11-4c0b-94e2-89920457f4a7",
   "metadata": {},
   "outputs": [],
   "source": [
    "df = pd.read_csv('covtype.csv')\n",
    "df.head()"
   ]
  },
  {
   "cell_type": "code",
   "execution_count": null,
   "id": "bf98693c-5ceb-419a-9341-c9a3f53ba773",
   "metadata": {},
   "outputs": [],
   "source": [
    "rows, cols = df.shape\n",
    "print(f'Number of rows: {rows}')\n",
    "print(f'Number of columns: {cols}')"
   ]
  },
  {
   "cell_type": "markdown",
   "id": "ea5424e1-0116-46bb-bce8-b4a8e36818b0",
   "metadata": {},
   "source": [
    "As you could see that there are 581012 rows, and 55 columns. \n",
    "\n",
    "Each row represents a $30*30$ cell of a forest land within the **Roosevelt National Forest of northern Colorado**.\n",
    "\n",
    "The columns represent the following cartographic and ecological variables:\n",
    "\n",
    "*   **Elevation:** Elevation in meters.\n",
    "*   **Aspect:** Aspect in degrees azimuth.\n",
    "*   **Slope:** Slope in degrees.\n",
    "*   **Horizontal\\_Distance\\_To\\_Hydrology:** Horizontal distance to the nearest surface water feature (in meters).\n",
    "*   **Vertical\\_Distance\\_To\\_Hydrology:** Vertical distance to the nearest surface water feature (in meters).\n",
    "*   **Horizontal\\_Distance\\_To\\_Roadways:** Horizontal distance to the nearest roadway (in meters).\n",
    "*   **Hillshade\\_9am:** Hillshade index at 9 am on the summer solstice (0 to 255 index).\n",
    "*   **Hillshade\\_Noon:** Hillshade index at noon on the summer solstice (0 to 255 index).\n",
    "*   **Hillshade\\_3pm:** Hillshade index at 3 pm on the summer solstice (0 to 255 index).\n",
    "*   **Horizontal\\_Distance\\_To\\_Fire\\_Points:** Horizontal distance to the nearest wildfire ignition point (in meters).\n",
    "*   **Wilderness\\_Area\\_1 to Wilderness\\_Area\\_4:** One-hot encoded columns representing the wilderness area:\n",
    "    *   1: Rawah Wilderness Area\n",
    "    *   2: Neota Wilderness Area\n",
    "    *   3: Comanche Peak Wilderness Area\n",
    "    *   4: Cache la Poudre Wilderness Area\n",
    "*   **Soil\\_Type\\_1 to Soil\\_Type\\_40:** One-hot encoded columns representing 40 different soil types (ELUs).\n",
    "*   **Cover\\_Type:** The forest cover type (integer class label 1-7), which is the target variable:\n",
    "    *   1: Spruce/Fir\n",
    "    *   2: Lodgepole Pine\n",
    "    *   3: Ponderosa Pine\n",
    "    *   4: Cottonwood/Willow\n",
    "    *   5: Aspen\n",
    "    *   6: Douglas-fir\n",
    "    *   7: Krummholz"
   ]
  },
  {
   "cell_type": "markdown",
   "id": "a4865028-f134-4a20-b0bf-35a5aa14e39b",
   "metadata": {},
   "source": [
    "## 3. Data Quality Checks"
   ]
  },
  {
   "cell_type": "code",
   "execution_count": null,
   "id": "6d31cb39-c591-4226-886d-ba5da1791bb0",
   "metadata": {},
   "outputs": [],
   "source": [
    "duplicate_rows = df.duplicated().sum()\n",
    "print(f'Number of duplicated rows: {duplicate_rows}')"
   ]
  },
  {
   "cell_type": "markdown",
   "id": "b900230b-8c12-4635-a9b5-d325bffbe5e1",
   "metadata": {},
   "source": [
    "So there are no duplicated rows in the dataset."
   ]
  },
  {
   "cell_type": "code",
   "execution_count": null,
   "id": "a54407b7-275e-4cc8-915a-13eb28f58ae4",
   "metadata": {},
   "outputs": [],
   "source": [
    "df.info()"
   ]
  },
  {
   "cell_type": "markdown",
   "id": "edea0cde-12c0-42ad-bb93-f4d786d0d740",
   "metadata": {},
   "source": [
    "**Observation:** The data types appear appropriate. Numerical features are `int64`, and the one-hot encoded categorical features are `int64` (which is suitable for binary 0/1 representation)."
   ]
  },
  {
   "cell_type": "markdown",
   "id": "c3b49038-8eed-4bf4-b19b-b56d2af9eada",
   "metadata": {},
   "source": [
    "## 4. Numerical Data Analysis"
   ]
  },
  {
   "cell_type": "markdown",
   "id": "ac9382b6-d738-4dfe-95df-8f142e20618c",
   "metadata": {},
   "source": [
    "Let's analyze each numerical column: `Elevation`, `Aspect`, `Slope`, `Horizontal_Distance_To_Hydrology`, `Vertical_Distance_To_Hydrology`, `Horizontal_Distance_To_Roadways`, `Hillshade_9am`, `Hillshade_Noon`, `Hillshade_3pm`, `Horizontal_Distance_To_Fire_Points`.\n",
    "\n",
    "1. `Elevation`\n",
    "- Represents the height above sea level (in meters).\n",
    "- Expected range: Depends on the location of the forest; typically between 0 and 8848 (highest elevation on Earth).\n",
    "- Potential abnormalities:\n",
    "    - Extremely low values (e.g., negative or close to zero, as forests aren’t in deep depressions).\n",
    "    - Extremely high values (e.g., > 9000 meters, unlikely for forested areas).\n",
    "  \n",
    "2. `Aspect`\n",
    "- Represents the compass direction of the slope (0 to 360 degrees).\n",
    "- Expected range: 0–360 (where 0 = North, 90 = East, etc.).\n",
    "- Potential abnormalities:\n",
    "    - Values outside 0–360.\n",
    "    - Missing or default values (e.g., if coded as -1 or 999).\n",
    "      \n",
    "3. `Slope`\n",
    "- Represents the steepness of the slope in degrees.\n",
    "- Expected range: 0–90 degrees (0 = flat, 90 = vertical).\n",
    "- Potential abnormalities:\n",
    "    - Values greater than 90 or less than 0.\n",
    "    - Extremely high slopes (close to 90) could indicate rare or misreported areas.\n",
    "      \n",
    "4. `Horizontal_Distance_To_Hydrology`\n",
    "- Horizontal distance to the nearest water body (in meters).\n",
    "- Expected range: Depends on the forest’s geography but typically positive values (as distances cannot be negative).\n",
    "- Potential abnormalities:\n",
    "    - Negative values (not possible for distance).\n",
    "    - Extremely large distances (e.g., thousands of kilometers, which might indicate erroneous or unscaled data).\n",
    "      \n",
    "5. `Vertical_Distance_To_Hydrology`\n",
    "- Vertical distance to the nearest water body (in meters).\n",
    "- Expected range: Positive or negative values (positive = above water level; negative = below water level).\n",
    "- Potential abnormalities:\n",
    "    - Extremely large positive or negative values (e.g., > ±500 meters, as water bodies are usually close to ground level).\n",
    "      \n",
    "6. `Horizontal_Distance_To_Roadways`\n",
    "- Horizontal distance to the nearest road (in meters).\n",
    "- Expected range: Positive values (distance cannot be negative).\n",
    "- Potential abnormalities:\n",
    "    - Negative values.\n",
    "    - Extremely large distances (e.g., >100 km in highly connected areas might be questionable).\n",
    "      \n",
    "7. `Hillshade_9am, Hillshade_Noon, Hillshade_3pm`\n",
    "- Indicate the amount of sunlight (0–255) at specific times of day.\n",
    "- Expected range: 0–255 (0 = no sunlight, 255 = maximum sunlight).\n",
    "- Potential abnormalities:\n",
    "    - Values outside 0–255.\n",
    "    - Simultaneously high values for all three times (unlikely due to natural shading and light direction).\n",
    "    - Simultaneously low values for all three times (e.g., 0, 0, 0, which might indicate data recording errors).\n",
    "      \n",
    "8. `Horizontal_Distance_To_Fire_Points`\n",
    "- Horizontal distance to the nearest fire point (in meters).\n",
    "- Expected range: Positive values (distance cannot be negative).\n",
    "- Potential abnormalities:\n",
    "    - Negative values.\n",
    "    - Extremely large distances (e.g., thousands of kilometers might indicate data errors or poor scaling)."
   ]
  },
  {
   "cell_type": "code",
   "execution_count": null,
   "id": "0835d2c3-852b-4140-98d0-7636cfbcaa1b",
   "metadata": {},
   "outputs": [],
   "source": [
    "numerical_cols = ['Elevation', 'Aspect', 'Slope', 'Horizontal_Distance_To_Hydrology',\n",
    "                  'Vertical_Distance_To_Hydrology', 'Horizontal_Distance_To_Roadways',\n",
    "                  'Hillshade_9am', 'Hillshade_Noon', 'Hillshade_3pm',\n",
    "                  'Horizontal_Distance_To_Fire_Points']\n",
    "\n",
    "def identify_abnormal_values(df):\n",
    "    abnormal_values = {}\n",
    "\n",
    "    # 1. Elevation: Check for negative or too high values\n",
    "    abnormal_values['Elevation'] = df[(df['Elevation'] < 0) | (df['Elevation'] > 8848)]['Elevation']\n",
    "\n",
    "    # 2. Aspect: Check for values outside 0-360\n",
    "    abnormal_values['Aspect'] = df[(df['Aspect'] < 0) | (df['Aspect'] > 360)]['Aspect']\n",
    "\n",
    "    # 3. Slope: Check for values outside 0-90\n",
    "    abnormal_values['Slope'] = df[(df['Slope'] < 0) | (df['Slope'] > 90)]['Slope']\n",
    "\n",
    "    # 4. Horizontal_Distance_To_Hydrology: Check for negative values or extreme distances\n",
    "    abnormal_values['Horizontal_Distance_To_Hydrology'] = df[(df['Horizontal_Distance_To_Hydrology'] < 0) | (df['Horizontal_Distance_To_Hydrology'] > 100000)]['Horizontal_Distance_To_Hydrology']\n",
    "\n",
    "    # 5. Vertical_Distance_To_Hydrology: Check for extreme values\n",
    "    abnormal_values['Vertical_Distance_To_Hydrology'] = df[(df['Vertical_Distance_To_Hydrology'] < -500) | (df['Vertical_Distance_To_Hydrology'] > 500)]['Vertical_Distance_To_Hydrology']\n",
    "\n",
    "    # 6. Horizontal_Distance_To_Roadways: Check for negative values or extreme distances\n",
    "    abnormal_values['Horizontal_Distance_To_Roadways'] = df[(df['Horizontal_Distance_To_Roadways'] < 0) | (df['Horizontal_Distance_To_Roadways'] > 100000)]['Horizontal_Distance_To_Roadways']\n",
    "\n",
    "    # 7. Hillshade_9am, Hillshade_Noon, Hillshade_3pm: Check for values outside 0-255\n",
    "    abnormal_values['Hillshade_9am'] = df[(df['Hillshade_9am'] < 0) | (df['Hillshade_9am'] > 255)]['Hillshade_9am']\n",
    "    abnormal_values['Hillshade_Noon'] = df[(df['Hillshade_Noon'] < 0) | (df['Hillshade_Noon'] > 255)]['Hillshade_Noon']\n",
    "    abnormal_values['Hillshade_3pm'] = df[(df['Hillshade_3pm'] < 0) | (df['Hillshade_3pm'] > 255)]['Hillshade_3pm']\n",
    "\n",
    "    # 8. Horizontal_Distance_To_Fire_Points: Check for negative values or extreme distances\n",
    "    abnormal_values['Horizontal_Distance_To_Fire_Points'] = df[(df['Horizontal_Distance_To_Fire_Points'] < 0) | (df['Horizontal_Distance_To_Fire_Points'] > 100000)]['Horizontal_Distance_To_Fire_Points']\n",
    "\n",
    "    # Return abnormal values for each feature\n",
    "    return abnormal_values\n",
    "\n",
    "abnormal_values = identify_abnormal_values(df)\n",
    "\n",
    "for col in numerical_cols:\n",
    "    print(f'Analysis of columns: {col}')\n",
    "\n",
    "    plt.hist(df[col])\n",
    "    plt.title(f\"Distribution of {col}\")\n",
    "    plt.show()\n",
    "\n",
    "    missing_percentage = df[col].isnull().sum() * 100.0 / rows\n",
    "    print(f'Percentage of missing values: {missing_percentage:.2f}%')\n",
    "\n",
    "    min_val = df[col].min()\n",
    "    max_val = df[col].max()\n",
    "\n",
    "    print(f'Min value: {min_val}')\n",
    "    print(f'Max value: {max_val}')\n",
    "\n",
    "    print(f'Number of abnormal values: {len(abnormal_values[col])}')\n",
    "    print('Abnormal values: ', abnormal_values[col])\n",
    "\n",
    "    print('\\n')\n",
    "    "
   ]
  },
  {
   "cell_type": "markdown",
   "id": "a944a325-b3ff-4da1-bfc3-6984dbeead0f",
   "metadata": {},
   "source": [
    "As we could see, there are 113 abnormal values of the column `Vertical_Distance_To_Hydrology`, which is the value 500 meters above the water, **Water bodies** can indeed be found at elevations above 500 meters, especially in mountainous or highland regions.\n",
    "\n",
    "According to the location (Roosevelt National Forest), we have some further informations:\n",
    "- **Location:** Roosevelt National Forest is located in the Rocky Mountains of northern Colorado, which are highly mountainous areas.\n",
    "- **Elevation:** The elevation of this forest varies widely due to the mountainous terrain. Some areas in the forest have elevations ranging from about 1,500 meters (5,000 feet) to over 4,000 meters (13,000 feet).\n",
    "- **Water Bodies:** There are numerous rivers, streams, and lakes throughout the forest, and some of them are indeed located at high elevations.\n",
    "\n",
    "**Conclusion:** It is kinda normal to have 113 values > 500 meters."
   ]
  }
 ],
 "metadata": {
  "kernelspec": {
   "display_name": "Python [conda env:base] *",
   "language": "python",
   "name": "conda-base-py"
  },
  "language_info": {
   "codemirror_mode": {
    "name": "ipython",
    "version": 3
   },
   "file_extension": ".py",
   "mimetype": "text/x-python",
   "name": "python",
   "nbconvert_exporter": "python",
   "pygments_lexer": "ipython3",
   "version": "3.12.7"
  }
 },
 "nbformat": 4,
 "nbformat_minor": 5
}
